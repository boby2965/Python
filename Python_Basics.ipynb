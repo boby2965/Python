{
  "nbformat": 4,
  "nbformat_minor": 0,
  "metadata": {
    "colab": {
      "provenance": [],
      "include_colab_link": true
    },
    "kernelspec": {
      "name": "python3",
      "display_name": "Python 3"
    },
    "language_info": {
      "name": "python"
    }
  },
  "cells": [
    {
      "cell_type": "markdown",
      "metadata": {
        "id": "view-in-github",
        "colab_type": "text"
      },
      "source": [
        "<a href=\"https://colab.research.google.com/github/boby2965/Python/blob/main/Python_Basics.ipynb\" target=\"_parent\"><img src=\"https://colab.research.google.com/assets/colab-badge.svg\" alt=\"Open In Colab\"/></a>"
      ]
    },
    {
      "cell_type": "markdown",
      "source": [
        "#Python Basics\n",
        "\n",
        "> 1. Identifiers:\n",
        "\n",
        "\n",
        "      Python Identifier is the name we give to identify a variable, function class, module or other object.\n",
        "      That means whenever we want to give an entity a name, that's called identifier.\n",
        "\n",
        "\n",
        "> 2. Reserved words:\n",
        "\n",
        "\n",
        "      Python keywords are the words that are reserved.They are for defining the syntax\n",
        "      and structures of Python language. There are 33 keywords in Python programming language.\n",
        "      The keywords in Python are case sensitive. So they are to be written as it is.\n",
        "\n",
        "\n",
        "\n",
        "> 3. Datatypes:\n",
        "\n",
        "      Python Data Types are used to define the type of a variable.\n",
        "      Some built-in Python data types are:\n",
        "        \n",
        "          *   Numeric data types: int, float, complex\n",
        "          *   String data types: str\n",
        "          *   Sequence types: list, tuple, range\n",
        "          *   Binary types: bytes, bytearray, memoryview\n",
        "          *   Mapping data type: dict\n",
        "          *   Boolean type: bool\n",
        "          *   Set data types: set, frozenset\n",
        "\n",
        "\n",
        "\n"
      ],
      "metadata": {
        "id": "060zCubNeL9W"
      }
    },
    {
      "cell_type": "code",
      "source": [
        "#int a,b;\n",
        "\n",
        "a = 10\n",
        "print(type(a))\n",
        "\n",
        "b = \"sting\"\n",
        "print(type(b))"
      ],
      "metadata": {
        "colab": {
          "base_uri": "https://localhost:8080/"
        },
        "id": "F7D1-VotLE8x",
        "outputId": "5ec1adf1-61ee-44c7-9de5-99a9ba9bd6a6"
      },
      "execution_count": null,
      "outputs": [
        {
          "output_type": "stream",
          "name": "stdout",
          "text": [
            "<class 'int'>\n",
            "<class 'str'>\n"
          ]
        }
      ]
    },
    {
      "cell_type": "code",
      "source": [
        " length = 10\n",
        " #rules to name identifiers\n",
        " 1. 'a-z' , 'A- Z' , '0-9', '_'"
      ],
      "metadata": {
        "id": "MqSEPk3LMGj1"
      },
      "execution_count": null,
      "outputs": []
    },
    {
      "cell_type": "code",
      "source": [
        "#UPPER CASE\n",
        "CAR = \"AUDI\"\n",
        "print(CAR)"
      ],
      "metadata": {
        "colab": {
          "base_uri": "https://localhost:8080/"
        },
        "id": "IHmKcMZ_MpX9",
        "outputId": "8b4aa214-5a45-499b-c825-47dc373e2154"
      },
      "execution_count": null,
      "outputs": [
        {
          "output_type": "stream",
          "name": "stdout",
          "text": [
            "AUDI\n"
          ]
        }
      ]
    },
    {
      "cell_type": "code",
      "source": [
        "#LOWER CASE\n",
        "car = \"AUDI\"\n",
        "print(car)"
      ],
      "metadata": {
        "colab": {
          "base_uri": "https://localhost:8080/"
        },
        "id": "Ab-hMFCNMyku",
        "outputId": "544795ba-1baf-433f-f468-ce6de5b98c66"
      },
      "execution_count": null,
      "outputs": [
        {
          "output_type": "stream",
          "name": "stdout",
          "text": [
            "AUDI\n"
          ]
        }
      ]
    },
    {
      "cell_type": "code",
      "source": [
        "#DIGITS\n",
        "1 = \"AUDI\"\n",
        "print(car)"
      ],
      "metadata": {
        "colab": {
          "base_uri": "https://localhost:8080/",
          "height": 141
        },
        "id": "pzQO-YZFNCyU",
        "outputId": "2d61cc93-3e4e-4e5c-cbf9-4a352ce5de28"
      },
      "execution_count": null,
      "outputs": [
        {
          "output_type": "error",
          "ename": "SyntaxError",
          "evalue": "ignored",
          "traceback": [
            "\u001b[0;36m  File \u001b[0;32m\"<ipython-input-10-39261a82d9cf>\"\u001b[0;36m, line \u001b[0;32m2\u001b[0m\n\u001b[0;31m    1 = \"AUDI\"\u001b[0m\n\u001b[0m    ^\u001b[0m\n\u001b[0;31mSyntaxError\u001b[0m\u001b[0;31m:\u001b[0m cannot assign to literal here. Maybe you meant '==' instead of '='?\n"
          ]
        }
      ]
    },
    {
      "cell_type": "code",
      "source": [
        "1CAR = \"AUDI\"\n",
        "print(car)"
      ],
      "metadata": {
        "colab": {
          "base_uri": "https://localhost:8080/",
          "height": 141
        },
        "id": "zAYy2tTSNL82",
        "outputId": "f899c6d0-f925-45ce-e772-8cafe5e9182e"
      },
      "execution_count": null,
      "outputs": [
        {
          "output_type": "error",
          "ename": "SyntaxError",
          "evalue": "ignored",
          "traceback": [
            "\u001b[0;36m  File \u001b[0;32m\"<ipython-input-11-804223e5fca2>\"\u001b[0;36m, line \u001b[0;32m1\u001b[0m\n\u001b[0;31m    1CAR = \"AUDI\"\u001b[0m\n\u001b[0m    ^\u001b[0m\n\u001b[0;31mSyntaxError\u001b[0m\u001b[0;31m:\u001b[0m invalid decimal literal\n"
          ]
        }
      ]
    },
    {
      "cell_type": "code",
      "source": [
        "car1 = \"AUDI\"\n",
        "print(car)"
      ],
      "metadata": {
        "colab": {
          "base_uri": "https://localhost:8080/"
        },
        "id": "Z9I4xj9cNQ3d",
        "outputId": "fbcbfc2f-c532-46ce-9d11-4c20dc1c75fb"
      },
      "execution_count": null,
      "outputs": [
        {
          "output_type": "stream",
          "name": "stdout",
          "text": [
            "AUDI\n"
          ]
        }
      ]
    },
    {
      "cell_type": "code",
      "source": [
        "car = \"AUDI\"\n",
        "print(car)"
      ],
      "metadata": {
        "colab": {
          "base_uri": "https://localhost:8080/"
        },
        "id": "Wxcb0SQBNWgp",
        "outputId": "000bb25e-f2c5-4232-d746-1627207c4066"
      },
      "execution_count": null,
      "outputs": [
        {
          "output_type": "stream",
          "name": "stdout",
          "text": [
            "AUDI\n"
          ]
        }
      ]
    },
    {
      "cell_type": "code",
      "source": [
        "_  = \"AUDI\"\n",
        "print(_)"
      ],
      "metadata": {
        "colab": {
          "base_uri": "https://localhost:8080/"
        },
        "id": "uzMmcIgnNf7F",
        "outputId": "fd671b51-348c-4040-c740-456569f2e340"
      },
      "execution_count": null,
      "outputs": [
        {
          "output_type": "stream",
          "name": "stdout",
          "text": [
            "AUDI\n"
          ]
        }
      ]
    },
    {
      "cell_type": "code",
      "source": [
        "_CAR  = \"AUDI\"\n",
        "print(_CAR)"
      ],
      "metadata": {
        "colab": {
          "base_uri": "https://localhost:8080/"
        },
        "id": "gFwgx9mtNsAh",
        "outputId": "9df4a460-4d17-46f0-9ab3-81436acad5b4"
      },
      "execution_count": null,
      "outputs": [
        {
          "output_type": "stream",
          "name": "stdout",
          "text": [
            "AUDI\n"
          ]
        }
      ]
    },
    {
      "cell_type": "code",
      "source": [
        "$CAR = \"AUDI\"\n",
        "print($CAR)"
      ],
      "metadata": {
        "colab": {
          "base_uri": "https://localhost:8080/",
          "height": 141
        },
        "id": "fPPNIoEeNysv",
        "outputId": "622aecae-f936-4c84-a185-3c09e5553113"
      },
      "execution_count": null,
      "outputs": [
        {
          "output_type": "error",
          "ename": "SyntaxError",
          "evalue": "ignored",
          "traceback": [
            "\u001b[0;36m  File \u001b[0;32m\"<ipython-input-16-0cc52ec54f8a>\"\u001b[0;36m, line \u001b[0;32m1\u001b[0m\n\u001b[0;31m    $CAR = \"AUDI\"\u001b[0m\n\u001b[0m    ^\u001b[0m\n\u001b[0;31mSyntaxError\u001b[0m\u001b[0;31m:\u001b[0m invalid syntax\n"
          ]
        }
      ]
    },
    {
      "cell_type": "code",
      "source": [
        "CAR_123   = \"AUDI\"\n",
        "print(CAR_123)"
      ],
      "metadata": {
        "colab": {
          "base_uri": "https://localhost:8080/"
        },
        "id": "BvYOxgvZN7jy",
        "outputId": "1011a746-1dcb-4b48-ac89-7bd5f1af259f"
      },
      "execution_count": null,
      "outputs": [
        {
          "output_type": "stream",
          "name": "stdout",
          "text": [
            "AUDI\n"
          ]
        }
      ]
    },
    {
      "cell_type": "code",
      "source": [
        "_CAR\n",
        "__CAR\n",
        "__MAIN__"
      ],
      "metadata": {
        "id": "vuolMbkCOKXE"
      },
      "execution_count": null,
      "outputs": []
    },
    {
      "cell_type": "code",
      "source": [
        "car = \"audi\"\n",
        "\n",
        "def bus():\n",
        "  pass\n",
        "\n",
        "class bike()\n",
        "\n"
      ],
      "metadata": {
        "id": "rJClKywhOWvR"
      },
      "execution_count": null,
      "outputs": []
    },
    {
      "cell_type": "code",
      "source": [
        "import keyword\n",
        "print(keyword.kwlist)"
      ],
      "metadata": {
        "colab": {
          "base_uri": "https://localhost:8080/"
        },
        "id": "kI8yTG0nOxxz",
        "outputId": "2f052726-ace1-4324-b01f-c2d82a0b34c1"
      },
      "execution_count": null,
      "outputs": [
        {
          "output_type": "stream",
          "name": "stdout",
          "text": [
            "['False', 'None', 'True', 'and', 'as', 'assert', 'async', 'await', 'break', 'class', 'continue', 'def', 'del', 'elif', 'else', 'except', 'finally', 'for', 'from', 'global', 'if', 'import', 'in', 'is', 'lambda', 'nonlocal', 'not', 'or', 'pass', 'raise', 'return', 'try', 'while', 'with', 'yield']\n"
          ]
        }
      ]
    },
    {
      "cell_type": "code",
      "source": [
        "and = \"hello\"\n",
        "print(and)"
      ],
      "metadata": {
        "colab": {
          "base_uri": "https://localhost:8080/",
          "height": 141
        },
        "id": "X8BW6mwMPJU0",
        "outputId": "a3d6b5a6-830c-44ec-a987-767218395c7d"
      },
      "execution_count": null,
      "outputs": [
        {
          "output_type": "error",
          "ename": "SyntaxError",
          "evalue": "ignored",
          "traceback": [
            "\u001b[0;36m  File \u001b[0;32m\"<ipython-input-20-910ed2abb96f>\"\u001b[0;36m, line \u001b[0;32m1\u001b[0m\n\u001b[0;31m    and = \"hello\"\u001b[0m\n\u001b[0m    ^\u001b[0m\n\u001b[0;31mSyntaxError\u001b[0m\u001b[0;31m:\u001b[0m invalid syntax\n"
          ]
        }
      ]
    },
    {
      "cell_type": "code",
      "source": [
        "False = \"hello\"\n",
        "print(False)"
      ],
      "metadata": {
        "colab": {
          "base_uri": "https://localhost:8080/",
          "height": 141
        },
        "id": "AwivGE40O-pc",
        "outputId": "7ad5b571-db66-4d21-f896-16aeb6c52474"
      },
      "execution_count": null,
      "outputs": [
        {
          "output_type": "error",
          "ename": "SyntaxError",
          "evalue": "ignored",
          "traceback": [
            "\u001b[0;36m  File \u001b[0;32m\"<ipython-input-19-fce06f78ac7c>\"\u001b[0;36m, line \u001b[0;32m1\u001b[0m\n\u001b[0;31m    False = \"hello\"\u001b[0m\n\u001b[0m    ^\u001b[0m\n\u001b[0;31mSyntaxError\u001b[0m\u001b[0;31m:\u001b[0m cannot assign to False\n"
          ]
        }
      ]
    },
    {
      "cell_type": "code",
      "source": [
        "#datatypes\n",
        "1. int\n",
        "2.float\n",
        "3.complex\n",
        "4.string\n",
        "5.bytes\n",
        "6.byterray\n",
        "6.range\n",
        "7.list\n",
        "8.tuple\n",
        "9.set\n",
        "10.frozenset\n",
        "11.dict\n",
        "12.None"
      ],
      "metadata": {
        "id": "qAaTN1hbPas9"
      },
      "execution_count": null,
      "outputs": []
    },
    {
      "cell_type": "code",
      "source": [
        "#int\n",
        "\n",
        "one = 1\n",
        "print(type(one))"
      ],
      "metadata": {
        "colab": {
          "base_uri": "https://localhost:8080/"
        },
        "id": "2KUmIvh_P4T5",
        "outputId": "35bbf22c-5e68-4519-da76-59be32457bde"
      },
      "execution_count": null,
      "outputs": [
        {
          "output_type": "stream",
          "name": "stdout",
          "text": [
            "<class 'int'>\n"
          ]
        }
      ]
    },
    {
      "cell_type": "code",
      "source": [
        "#float\n",
        "\n",
        "float_value = 1.2\n",
        "print(type(float_value))"
      ],
      "metadata": {
        "colab": {
          "base_uri": "https://localhost:8080/"
        },
        "id": "ZXql6OUGQMxp",
        "outputId": "442be4c5-630a-4643-f281-09b09091d246"
      },
      "execution_count": null,
      "outputs": [
        {
          "output_type": "stream",
          "name": "stdout",
          "text": [
            "<class 'float'>\n"
          ]
        }
      ]
    },
    {
      "cell_type": "code",
      "source": [
        "pyton 1\n",
        "python 2\n",
        "python 3"
      ],
      "metadata": {
        "id": "rOCAmBO1Q64M"
      },
      "execution_count": null,
      "outputs": []
    },
    {
      "cell_type": "code",
      "source": [
        "print \"hello\""
      ],
      "metadata": {
        "colab": {
          "base_uri": "https://localhost:8080/",
          "height": 141
        },
        "id": "yQvUinhXRLtt",
        "outputId": "7d153fca-19e4-4092-e13c-6d95317b703b"
      },
      "execution_count": null,
      "outputs": [
        {
          "output_type": "error",
          "ename": "SyntaxError",
          "evalue": "ignored",
          "traceback": [
            "\u001b[0;36m  File \u001b[0;32m\"<ipython-input-23-2a0eaa89f43f>\"\u001b[0;36m, line \u001b[0;32m1\u001b[0m\n\u001b[0;31m    print \"hello\"\u001b[0m\n\u001b[0m    ^\u001b[0m\n\u001b[0;31mSyntaxError\u001b[0m\u001b[0;31m:\u001b[0m Missing parentheses in call to 'print'. Did you mean print(...)?\n"
          ]
        }
      ]
    },
    {
      "cell_type": "code",
      "source": [
        "print(\"hello\")"
      ],
      "metadata": {
        "colab": {
          "base_uri": "https://localhost:8080/"
        },
        "id": "3a-XtzdLRP11",
        "outputId": "7639e810-0584-41d8-e310-cc5ce2e10dfd"
      },
      "execution_count": null,
      "outputs": [
        {
          "output_type": "stream",
          "name": "stdout",
          "text": [
            "hello\n"
          ]
        }
      ]
    },
    {
      "cell_type": "code",
      "source": [
        "int = \"hi\"\n",
        "print(int)"
      ],
      "metadata": {
        "id": "dZAHeMBESVVQ",
        "outputId": "5219283e-fac7-41cc-fd23-f5abc757c91f",
        "colab": {
          "base_uri": "https://localhost:8080/"
        }
      },
      "execution_count": null,
      "outputs": [
        {
          "output_type": "stream",
          "name": "stdout",
          "text": [
            "hi\n"
          ]
        }
      ]
    }
  ]
}